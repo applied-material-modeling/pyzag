{
 "cells": [
  {
   "cell_type": "code",
   "execution_count": 1,
   "metadata": {},
   "outputs": [],
   "source": [
    "# Setup what we need\n",
    "import sys\n",
    "sys.path.append('../..')\n",
    "\n",
    "import matplotlib.pyplot as plt\n",
    "\n",
    "import torch\n",
    "from pyzag import ode, nonlinear, chunktime"
   ]
  },
  {
   "cell_type": "markdown",
   "metadata": {},
   "source": [
    "## Define the model\n",
    "Our model can be defined as a system of ordinary differential equations of the form\n",
    "$$ \\dot{v} = h - c v$$\n",
    "and\n",
    "$$ \\dot{z} = v $$\n",
    "\n",
    "where $v$ is a vector of two components containing the x and y velocity of the cannonball, $z$ is a vector giving the position of the ball, $h$ is a vector defining graviational acceleration, and $c$ is a constant related to the wind resistance experienced by the ball in flight.  We can expand this vector description into explicit equations for the $x$ and $y$ components of the velocity:\n",
    "$$ \\begin{bmatrix}\n",
    "\\dot{v}_x\\\\ \n",
    "\\dot{v}_y\n",
    "\\end{bmatrix}\n",
    "\n",
    "=\n",
    "\n",
    "\\begin{bmatrix}\n",
    "0 \\\\ \n",
    "-g\n",
    "\\end{bmatrix}\n",
    "\n",
    "-\n",
    "\n",
    "c\n",
    "\\begin{bmatrix}\n",
    "v_x \\\\ \n",
    "v_y\n",
    "\\end{bmatrix} $$\n",
    "where $g$ is now the regular scalar gravitational acceleration.\n",
    "\n",
    "We can trivially do this for the position as well:\n",
    "$$ \\begin{bmatrix}\n",
    "\\dot{z}_x\\\\ \n",
    "\\dot{z}_y\n",
    "\\end{bmatrix}\n",
    "\n",
    "=\n",
    "\\begin{bmatrix}\n",
    "v_x \\\\ \n",
    "v_y\n",
    "\\end{bmatrix} $$\n",
    "\n",
    "In addition, we need initial conditions for the velocities, which we can define as:\n",
    "$$ \\begin{bmatrix}\n",
    "v_x \\\\ \n",
    "v_y\n",
    "\\end{bmatrix} =\n",
    " \\begin{bmatrix}\n",
    "v_0 \\cos \\theta_0 \\\\ \n",
    "v_0 \\sin \\theta_0\n",
    "\\end{bmatrix} $$\n",
    "where $\\theta_0$ is the cannon launch angle and $v_0$ is the scalar launch velocity.  We will let the position of the cannon, i.e. $z = 0$."
   ]
  },
  {
   "cell_type": "markdown",
   "metadata": {},
   "source": [
    "### Rate form\n",
    "In pyzag we can split the definition of the model into a couple of parts.  The first is just the mathematical definition of the ODE.  We need to define this as the full system of four ODEs, two equations each for the velocity and the position.  We'll call this full system of equations $\\dot{s}$ where $s$ is a vector given by\n",
    "$$ s =\n",
    "\\begin{bmatrix}\n",
    "v_x \\\\ \n",
    "v_y \\\\\n",
    "z_x \\\\\n",
    "z_y \n",
    "\\end{bmatrix} $$\n",
    "\n",
    "In addition to implementing the rate form of the equations we defined above, we also need to define the Jacobian, given by\n",
    "$$\n",
    "J = \\frac{d \\dot{s}}{d s}\n",
    "$$\n",
    "and return this value, along with the actual equations, as part of the `forward` operator.  The reason we need the Jacobian is explained in the next cell."
   ]
  },
  {
   "cell_type": "code",
   "execution_count": 2,
   "metadata": {},
   "outputs": [],
   "source": [
    "# Define the rate form of the model\n",
    "class CannonRateForm(torch.nn.Module):\n",
    "    \"\"\"ODE equations defining the canon trajectories\n",
    "    \"\"\"\n",
    "    def __init__(self, c, g, theta0, v0):\n",
    "        super().__init__()\n",
    "        self.c = torch.nn.Parameter(torch.tensor(c))\n",
    "        self.h = torch.tensor([0,-g])\n",
    "        self.theta0 = torch.nn.Parameter(torch.tensor(theta0))\n",
    "        self.v0 = torch.nn.Parameter(torch.tensor(v0))\n",
    "\n",
    "    def forward(self, t, s):\n",
    "        \"\"\"Rate form and Jacobian of the model\n",
    "\n",
    "        Args:\n",
    "            t (torch.tensor): time (not actually used in this example!)\n",
    "            s (torch.tensor): concatenated velocity and position vectors\n",
    "        \"\"\"\n",
    "        v = s[...,:2]\n",
    "        # Define the rate form\n",
    "        v_dot = self.h - self.c * v\n",
    "        s_dot = torch.cat([v_dot, v], dim = -1)\n",
    "        # Define the Jacobian\n",
    "        I = torch.eye(2, device = s.device).expand(v.shape + (2,))\n",
    "        zero = torch.zeros_like(I)\n",
    "        Jvv = - self.c *  I\n",
    "        Jzv = I\n",
    "\n",
    "        J = torch.cat([torch.cat([Jvv, zero], dim = -1), torch.cat([Jzv, zero], dim = -1)], dim = -2)\n",
    "\n",
    "        return s_dot, J\n",
    "\n",
    "    def y0(self, expand = None):\n",
    "        \"\"\"Define the model initial conditions\n",
    "\n",
    "        Keyword Args:\n",
    "            expand (shape or None): if not None expand to the indicated shape\n",
    "        \"\"\"\n",
    "        y0 = torch.tensor([torch.cos(self.theta0), torch.sin(self.theta0), 0.0, 0.0])\n",
    "        if expand:\n",
    "            y0 = y0.expand(expand + y0.shape)\n",
    "\n",
    "        return y0"
   ]
  },
  {
   "cell_type": "markdown",
   "metadata": {},
   "source": [
    "We will be changing these values a lot below, but let's define the model with some reasonable values for the parameters $c$, $\\theta_0$, and $v_0$ and give a value for the gravitational acceleration:"
   ]
  },
  {
   "cell_type": "code",
   "execution_count": 3,
   "metadata": {},
   "outputs": [],
   "source": [
    "c = 0.1\n",
    "g = 1.0\n",
    "theta0 = torch.pi / 4\n",
    "v0 = 1.0\n",
    "rate_model = CannonRateForm(c, g, theta0, v0)"
   ]
  },
  {
   "cell_type": "markdown",
   "metadata": {},
   "source": [
    "### Discrete equation\n",
    "Next we need to apply a numerical time integration scheme to this ODE so that we end up with a discrete (generally) nonlinear system of equations.  We'll use the Backward Euler scheme here, which will transform the ODE into an implicit system of algebraic equations we need to solve to find the next set of velocities, as we march through the trajectory in time.  Specifically, the Backward Euler scheme will give us the equations:\n",
    "$$\n",
    "0 = v_{n+1} - v_n - \\dot{v}_{n+1} \\Delta t_{n+1}\n",
    "$$\n",
    "where $n+1$ means the next time step, $n$ means the previous time step, $\\dot{v}{n+1}$ means we have to evaluate the change in velocity using the velocities for the *next* step, making this an implicit equation, and $\\Delta t_{n+1}$ is the change in time from step $n$ to $n+1$.\n",
    "\n",
    "Luckily you don't need to do anything here as pyzag comes with predefined models for applying numerical time integration."
   ]
  },
  {
   "cell_type": "code",
   "execution_count": 4,
   "metadata": {},
   "outputs": [],
   "source": [
    "discrete_model = ode.BackwardEulerODE(rate_model)"
   ]
  },
  {
   "cell_type": "markdown",
   "metadata": {},
   "source": [
    "### Solving the model\n",
    "Finally we need to define an object that will actually numerically solve our discrete equations.  The inputs to this function will be the times at which we want solutions, the output will be the actual cannonball trajectories.  This is often on you, the user, to define because you might want to do some postprocessing before you pass back the series of results.  In our example the only postprocessing we'll do is to return only the cannonball trajectories and not the velocity.\n",
    "\n",
    "To solve the discrete equations we'll use the `RecursiveNonlinearEquationSolver` class provided in the `pyzag.nonlinear` module.  This object solves for the discrete trajectories in a way that allows us to vectorize some of the time integration cost by looking to integrate `nchunk` time steps at once.  Additionally, this object takes other numerical hyperparameters related to how to numerically solve for the trajectories.  One of these (the absolute convergence tolerance) we adjust here.  The others the default values are fine"
   ]
  },
  {
   "cell_type": "code",
   "execution_count": 5,
   "metadata": {},
   "outputs": [],
   "source": [
    "class Trajectory(torch.nn.Module):\n",
    "    def __init__(self, discrete_equations, nchunk = 1):\n",
    "        super().__init__()\n",
    "\n",
    "        self.discrete_equations = discrete_equations\n",
    "        self.solver = nonlinear.RecursiveNonlinearEquationSolver(self.discrete_equations, step_generator = nonlinear.StepGenerator(nchunk), nonlinear_solver=chunktime.ChunkNewtonRaphson(atol = 1e-3, rtol = 1e-5))\n",
    "\n",
    "    def forward(self, t):\n",
    "        n = len(t)\n",
    "\n",
    "        full_trajectory = nonlinear.solve_adjoint(\n",
    "            self.solver, self.discrete_equations.ode.y0(t.shape[1:-1]), n, t\n",
    "        )\n",
    "\n",
    "        return full_trajectory[...,2:]"
   ]
  },
  {
   "cell_type": "code",
   "execution_count": 6,
   "metadata": {},
   "outputs": [],
   "source": [
    "nchunk = 10 # Best value will depend on your system\n",
    "model = Trajectory(discrete_model, nchunk = nchunk)"
   ]
  },
  {
   "cell_type": "markdown",
   "metadata": {},
   "source": [
    "## Simulating trajectories\n",
    "Alright, let's simulate some trajectories.  Right now things are boring and all we can do is run a single trajectory.  But let's see what that looks like.\n",
    "\n",
    "We have a couple more parameters to define, the time to consider and the number of time steps."
   ]
  },
  {
   "cell_type": "code",
   "execution_count": 17,
   "metadata": {},
   "outputs": [],
   "source": [
    "stop_time = 1.0\n",
    "ntime = 100"
   ]
  },
  {
   "cell_type": "code",
   "execution_count": 19,
   "metadata": {},
   "outputs": [
    {
     "data": {
      "text/plain": [
       "Text(0, 0.5, 'y')"
      ]
     },
     "execution_count": 19,
     "metadata": {},
     "output_type": "execute_result"
    },
    {
     "data": {
      "image/png": "[encoded data removed]",
      "text/plain": [
       "<Figure size 640x480 with 1 Axes>"
      ]
     },
     "metadata": {},
     "output_type": "display_data"
    }
   ],
   "source": [
    "# The unsqueeze here are for two reasons:\n",
    "# 1) We've decided that even scalar inputs need to have a shape of (1,)\n",
    "# 2) Our batch shape is (1,)\n",
    "# So the shape of times should be (ntime,1,1)\n",
    "times = torch.linspace(0, stop_time, ntime).unsqueeze(-1).unsqueeze(-1)\n",
    "# Run the model\n",
    "first_result = model(times)\n",
    "plt.plot(first_result[:, 0, 0].detach(), first_result[:, 0, 1].detach())\n",
    "plt.xlabel(\"x\")\n",
    "plt.ylabel(\"y\")"
   ]
  }
 ],
 "metadata": {
  "kernelspec": {
   "display_name": "neml2",
   "language": "python",
   "name": "python3"
  },
  "language_info": {
   "codemirror_mode": {
    "name": "ipython",
    "version": 3
   },
   "file_extension": ".py",
   "mimetype": "text/x-python",
   "name": "python",
   "nbconvert_exporter": "python",
   "pygments_lexer": "ipython3",
   "version": "3.1.-1"
  }
 },
 "nbformat": 4,
 "nbformat_minor": 2
}
